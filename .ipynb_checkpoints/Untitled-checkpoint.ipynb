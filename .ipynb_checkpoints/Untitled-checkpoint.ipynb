{
 "cells": [
  {
   "cell_type": "code",
   "execution_count": 1,
   "metadata": {},
   "outputs": [],
   "source": [
    "import numpy as np"
   ]
  },
  {
   "cell_type": "code",
   "execution_count": 2,
   "metadata": {},
   "outputs": [],
   "source": [
    "import pandas as pd"
   ]
  },
  {
   "cell_type": "code",
   "execution_count": 3,
   "metadata": {},
   "outputs": [],
   "source": [
    "sF_CC = pd.read_csv('CC_SF.csv')"
   ]
  },
  {
   "cell_type": "code",
   "execution_count": 4,
   "metadata": {},
   "outputs": [],
   "source": [
    "wA_CC = pd.read_csv('CC_WA_Cropped.csv')"
   ]
  },
  {
   "cell_type": "code",
   "execution_count": 5,
   "metadata": {},
   "outputs": [],
   "source": [
    "TWA = wA_CC[['election_year', 'amount']]"
   ]
  },
  {
   "cell_type": "code",
   "execution_count": 6,
   "metadata": {},
   "outputs": [],
   "source": [
    "newWA_CC = TWA.copy()"
   ]
  },
  {
   "cell_type": "code",
   "execution_count": 7,
   "metadata": {},
   "outputs": [],
   "source": [
    "TSF = sF_CC[['Year', 'Amount']]"
   ]
  },
  {
   "cell_type": "code",
   "execution_count": 8,
   "metadata": {},
   "outputs": [],
   "source": [
    "newSF_CC = TSF.copy()"
   ]
  },
  {
   "cell_type": "code",
   "execution_count": 9,
   "metadata": {},
   "outputs": [],
   "source": [
    "newWA_CC['election_year'].replace('', np.nan, inplace=True)"
   ]
  },
  {
   "cell_type": "code",
   "execution_count": 10,
   "metadata": {},
   "outputs": [],
   "source": [
    "newWA_CC['election_year'].replace(2007, np.nan, inplace=True)\n",
    "newWA_CC['election_year'].replace(2008, np.nan, inplace=True)"
   ]
  },
  {
   "cell_type": "code",
   "execution_count": 11,
   "metadata": {},
   "outputs": [
    {
     "data": {
      "text/plain": [
       "2      2012.0\n",
       "3      2012.0\n",
       "4      2012.0\n",
       "5      2012.0\n",
       "6      2012.0\n",
       "        ...  \n",
       "995    2011.0\n",
       "996    2011.0\n",
       "997    2011.0\n",
       "998    2011.0\n",
       "999    2011.0\n",
       "Name: election_year, Length: 622, dtype: float64"
      ]
     },
     "execution_count": 11,
     "metadata": {},
     "output_type": "execute_result"
    }
   ],
   "source": [
    "newWA_CC['election_year'].dropna()"
   ]
  },
  {
   "cell_type": "code",
   "execution_count": 12,
   "metadata": {},
   "outputs": [],
   "source": [
    "newWA_CC['amount'].replace('', np.nan, inplace=True)"
   ]
  },
  {
   "cell_type": "code",
   "execution_count": 13,
   "metadata": {},
   "outputs": [
    {
     "data": {
      "text/plain": [
       "0        500.00\n",
       "1         35.00\n",
       "2         10.00\n",
       "3      50000.00\n",
       "4        104.00\n",
       "         ...   \n",
       "995      150.00\n",
       "996       18.32\n",
       "997       14.00\n",
       "998        2.25\n",
       "999        2.25\n",
       "Name: amount, Length: 1000, dtype: float64"
      ]
     },
     "execution_count": 13,
     "metadata": {},
     "output_type": "execute_result"
    }
   ],
   "source": [
    "newWA_CC['amount'].dropna()"
   ]
  },
  {
   "cell_type": "code",
   "execution_count": 14,
   "metadata": {},
   "outputs": [],
   "source": [
    "newSF_CC['Year'].replace('', np.nan, inplace=True)"
   ]
  },
  {
   "cell_type": "code",
   "execution_count": 15,
   "metadata": {},
   "outputs": [],
   "source": [
    "newSF_CC['Year'].replace(2017, np.nan, inplace=True)\n",
    "newSF_CC['Year'].replace(2018, np.nan, inplace=True)\n",
    "newSF_CC['Year'].replace(2019, np.nan, inplace=True)"
   ]
  },
  {
   "cell_type": "code",
   "execution_count": 16,
   "metadata": {},
   "outputs": [
    {
     "data": {
      "text/plain": [
       "0      2014.0\n",
       "1      2014.0\n",
       "2      2016.0\n",
       "3      2011.0\n",
       "6      2013.0\n",
       "        ...  \n",
       "272    2011.0\n",
       "273    2011.0\n",
       "274    2016.0\n",
       "276    2015.0\n",
       "277    2016.0\n",
       "Name: Year, Length: 221, dtype: float64"
      ]
     },
     "execution_count": 16,
     "metadata": {},
     "output_type": "execute_result"
    }
   ],
   "source": [
    "newSF_CC['Year'].dropna()"
   ]
  },
  {
   "cell_type": "code",
   "execution_count": 17,
   "metadata": {},
   "outputs": [],
   "source": [
    "newSF_CC['Amount'].replace('', np.nan, inplace=True)"
   ]
  },
  {
   "cell_type": "code",
   "execution_count": 18,
   "metadata": {},
   "outputs": [
    {
     "data": {
      "text/plain": [
       "0      2000.0\n",
       "1      2000.0\n",
       "2       250.0\n",
       "3       137.0\n",
       "4       100.0\n",
       "        ...  \n",
       "283     500.0\n",
       "284     500.0\n",
       "285     110.0\n",
       "286     500.0\n",
       "287      10.0\n",
       "Name: Amount, Length: 288, dtype: float64"
      ]
     },
     "execution_count": 18,
     "metadata": {},
     "output_type": "execute_result"
    }
   ],
   "source": [
    "newSF_CC['Amount'].dropna()"
   ]
  },
  {
   "cell_type": "code",
   "execution_count": 19,
   "metadata": {},
   "outputs": [],
   "source": [
    "newWA_CC = newWA_CC.groupby('election_year', as_index=False).sum()"
   ]
  },
  {
   "cell_type": "code",
   "execution_count": 20,
   "metadata": {},
   "outputs": [],
   "source": [
    "newSF_CC = newSF_CC.groupby('Year', as_index=False).sum()"
   ]
  },
  {
   "cell_type": "code",
   "execution_count": 21,
   "metadata": {},
   "outputs": [],
   "source": [
    "newSF_CC = newSF_CC.rename(columns={\"Amount\": \"SF Amount\"})"
   ]
  },
  {
   "cell_type": "code",
   "execution_count": 22,
   "metadata": {},
   "outputs": [],
   "source": [
    "newWA_CC = newWA_CC.rename(columns={\"election_year\": \"Year\", \"amount\": \"WA Amount\"})"
   ]
  },
  {
   "cell_type": "code",
   "execution_count": 23,
   "metadata": {},
   "outputs": [],
   "source": [
    "resultDataSet = pd.merge(newWA_CC, newSF_CC, on='Year')"
   ]
  },
  {
   "cell_type": "code",
   "execution_count": 24,
   "metadata": {},
   "outputs": [
    {
     "name": "stdout",
     "output_type": "stream",
     "text": [
      "     Year  WA Amount  SF Amount\n",
      "0  2009.0   12794.67     7855.0\n",
      "1  2010.0   47901.65     8718.0\n",
      "2  2011.0   12233.37     7871.0\n",
      "3  2012.0   85266.96     7410.0\n",
      "4  2013.0    9837.02     2651.0\n",
      "5  2014.0   23939.00    21150.0\n",
      "6  2015.0     125.00     5650.0\n",
      "7  2016.0    1137.00    40800.0\n"
     ]
    }
   ],
   "source": [
    "print(resultDataSet)"
   ]
  },
  {
   "cell_type": "code",
   "execution_count": null,
   "metadata": {},
   "outputs": [],
   "source": []
  }
 ],
 "metadata": {
  "kernelspec": {
   "display_name": "Python 3",
   "language": "python",
   "name": "python3"
  },
  "language_info": {
   "codemirror_mode": {
    "name": "ipython",
    "version": 3
   },
   "file_extension": ".py",
   "mimetype": "text/x-python",
   "name": "python",
   "nbconvert_exporter": "python",
   "pygments_lexer": "ipython3",
   "version": "3.8.3"
  }
 },
 "nbformat": 4,
 "nbformat_minor": 4
}
